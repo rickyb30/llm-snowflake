{
 "cells": [
  {
   "cell_type": "code",
   "execution_count": null,
   "id": "615e7aa0-680f-4eb7-b22a-564defb5af56",
   "metadata": {},
   "outputs": [],
   "source": [
    "from langchain.chat_models import ChatOpenAI\n",
    "\n",
    "from langchain.prompts.chat import (\n",
    "    ChatPromptTemplate,\n",
    "    SystemMessagePromptTemplate,\n",
    "    HumanMessagePromptTemplate,\n",
    ")"
   ]
  },
  {
   "cell_type": "code",
   "execution_count": null,
   "id": "78c12e8d",
   "metadata": {},
   "outputs": [],
   "source": [
    "f = open('./openai_api.txt')\n",
    "api_key = f.read()"
   ]
  },
  {
   "cell_type": "code",
   "execution_count": null,
   "id": "50476187",
   "metadata": {},
   "outputs": [],
   "source": [
    "chat = ChatOpenAI(openai_api_key=api_key, temperature=0.0, model=\"gpt-3.5-turbo\")"
   ]
  },
  {
   "cell_type": "code",
   "execution_count": null,
   "id": "3d539f44",
   "metadata": {},
   "outputs": [],
   "source": [
    "def generate_sql_from_nlp(nlp_query):\n",
    "    # System prompt\n",
    "    system_template = '''\n",
    "    You're an expert DBA. You have a table called 'customer_reviews' with columns 'review_id' and 'review_text'.\n",
    "    Column 'review_id' is numeric starting from 1.\n",
    "    Users need to fetch 'review_text' for sentiment analysis.\n",
    "    You need to write a SQL query to select the review text for the review_id given by the user.\n",
    "    '''\n",
    "    system_message_prompt = SystemMessagePromptTemplate.from_template(system_template)\n",
    "\n",
    "    # Human prompt\n",
    "    human_template = '''\n",
    "    {nlp_query}\n",
    "    '''\n",
    "    human_message_prompt = HumanMessagePromptTemplate.from_template(human_template)\n",
    "    # Chat prompt\n",
    "    chat_prompt = ChatPromptTemplate.from_messages([system_message_prompt, human_message_prompt])\n",
    "    # Inject variables\n",
    "    request = chat_prompt.format_prompt(nlp_query=nlp_query).to_messages()\n",
    "    # Chat request\n",
    "    result = chat(request)\n",
    "    return result.content"
   ]
  },
  {
   "cell_type": "code",
   "execution_count": null,
   "id": "b6406ad9",
   "metadata": {},
   "outputs": [],
   "source": [
    "sql_query = generate_sql_from_nlp('show me seventh review')"
   ]
  },
  {
   "cell_type": "code",
   "execution_count": null,
   "id": "6aa957b9",
   "metadata": {},
   "outputs": [],
   "source": [
    "sql_query"
   ]
  },
  {
   "cell_type": "code",
   "execution_count": null,
   "id": "421a7bc2",
   "metadata": {},
   "outputs": [],
   "source": [
    "import snowflake.connector\n",
    "# Snowflake connection details\n",
    "conn_details = {\n",
    "    \"user\": \"llm_user\",\n",
    "    \"password\": \"xxxxxxxx\",\n",
    "    \"account\": \"xxxxx-xxxxx\",\n",
    "    \"warehouse\": \"llm_wh\",\n",
    "    \"database\": \"llm_db\",\n",
    "    \"schema\": \"llm_schema\"\n",
    "}\n",
    "\n",
    "def query_snowflake(sql_query):\n",
    "    conn = snowflake.connector.connect(**conn_details)\n",
    "    cur = conn.cursor()\n",
    "    try:\n",
    "        cur.execute(sql_query)\n",
    "        result = cur.fetchone()\n",
    "        return result\n",
    "    finally:\n",
    "        cur.close()\n",
    "        conn.close()\n",
    "\n",
    "review_text = query_snowflake(sql_query) \n",
    "print(\"Fetched Review Text:\", review_text)"
   ]
  },
  {
   "cell_type": "code",
   "execution_count": null,
   "id": "115d7da0",
   "metadata": {},
   "outputs": [],
   "source": [
    "def analyze_sentiment(review):\n",
    "    # System prompt\n",
    "    system_template = '''\n",
    "    You need to analyze the sentiment of a given review.\n",
    "    You also need to be very specific and respond ONLY and ONLY with one of the three options given below: \n",
    "    1. positive\n",
    "    2. negative\n",
    "    3. neutral\n",
    "    '''\n",
    "    human_template = \"\"\"\n",
    "    Analyze the sentiment for this review: {review}\n",
    "    \"\"\"\n",
    "    system_message_prompt = SystemMessagePromptTemplate.from_template(system_template)\n",
    "    human_message_prompt = HumanMessagePromptTemplate.from_template(human_template)\n",
    "    chat_prompt = ChatPromptTemplate.from_messages([system_message_prompt, human_message_prompt])\n",
    "\n",
    "    # Inject variables\n",
    "    request = chat_prompt.format_prompt(review=review).to_messages()\n",
    "    # Chat request\n",
    "    result = chat(request)\n",
    "    return result.content"
   ]
  },
  {
   "cell_type": "code",
   "execution_count": null,
   "id": "7e2107df",
   "metadata": {},
   "outputs": [],
   "source": [
    "sentiment = analyze_sentiment(review_text)\n",
    "print(sentiment)"
   ]
  }
 ],
 "metadata": {
  "kernelspec": {
   "display_name": "Python 3 (ipykernel)",
   "language": "python",
   "name": "python3"
  },
  "language_info": {
   "codemirror_mode": {
    "name": "ipython",
    "version": 3
   },
   "file_extension": ".py",
   "mimetype": "text/x-python",
   "name": "python",
   "nbconvert_exporter": "python",
   "pygments_lexer": "ipython3",
   "version": "3.11.6"
  }
 },
 "nbformat": 4,
 "nbformat_minor": 5
}
